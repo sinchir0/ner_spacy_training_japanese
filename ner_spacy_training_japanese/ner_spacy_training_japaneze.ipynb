{
 "cells": [
  {
   "cell_type": "markdown",
   "metadata": {},
   "source": [
    "# Ref\n",
    "- https://spacy.io/usage/training"
   ]
  },
  {
   "cell_type": "markdown",
   "metadata": {},
   "source": [
    "# Import"
   ]
  },
  {
   "cell_type": "code",
   "execution_count": 1,
   "metadata": {},
   "outputs": [],
   "source": [
    "import spacy\n",
    "import json\n",
    "import random\n",
    "from tqdm.auto import tqdm\n",
    "\n",
    "from spacy.tokens import DocBin\n",
    "from spacy.util import filter_spans"
   ]
  },
  {
   "cell_type": "markdown",
   "metadata": {},
   "source": [
    "# データの読み込み"
   ]
  },
  {
   "cell_type": "code",
   "execution_count": 2,
   "metadata": {},
   "outputs": [],
   "source": [
    "with open(\"../ner-wikipedia-dataset/ner.json\") as f:\n",
    "    stockmark_data = json.load(f)"
   ]
  },
  {
   "cell_type": "markdown",
   "metadata": {},
   "source": [
    "# データをSpacyで読み込める形式に変換"
   ]
  },
  {
   "cell_type": "code",
   "execution_count": 3,
   "metadata": {},
   "outputs": [],
   "source": [
    "# データ型を定義する\n",
    "Span = list[int]\n",
    "EntitiesData = list[dict[str, str | Span]]\n",
    "OneData = dict[str, str | EntitiesData]\n",
    "StockmarkData = list[OneData]"
   ]
  },
  {
   "cell_type": "code",
   "execution_count": 4,
   "metadata": {},
   "outputs": [],
   "source": [
    "def random_split_to_train_dev_test(data: StockmarkData) -> tuple[StockmarkData, StockmarkData, StockmarkData]:\n",
    "    all_len = len(data)\n",
    "\n",
    "    train_len = int(all_len * 0.6)\n",
    "    dev_len = train_len + int(all_len * 0.2)\n",
    "\n",
    "    random.shuffle(data)\n",
    "\n",
    "    train = data[:train_len]\n",
    "    dev = data[train_len:dev_len]\n",
    "    test = data[dev_len:]\n",
    "\n",
    "    return train, dev, test\n",
    "\n",
    "train, dev, test = random_split_to_train_dev_test(stockmark_data)"
   ]
  },
  {
   "cell_type": "code",
   "execution_count": 5,
   "metadata": {},
   "outputs": [
    {
     "name": "stdout",
     "output_type": "stream",
     "text": [
      "3205\n",
      "1068\n",
      "1070\n"
     ]
    }
   ],
   "source": [
    "print(len(train))\n",
    "print(len(dev))\n",
    "print(len(test))"
   ]
  },
  {
   "cell_type": "code",
   "execution_count": 6,
   "metadata": {},
   "outputs": [
    {
     "data": {
      "application/vnd.jupyter.widget-view+json": {
       "model_id": "9573ca0875434d27aa476e78a5a66153",
       "version_major": 2,
       "version_minor": 0
      },
      "text/plain": [
       "  0%|          | 0/3205 [00:00<?, ?it/s]"
      ]
     },
     "metadata": {},
     "output_type": "display_data"
    },
    {
     "name": "stdout",
     "output_type": "stream",
     "text": [
      "Skipping entity\n",
      "Skipping entity\n",
      "Skipping entity\n",
      "Skipping entity\n",
      "Skipping entity\n",
      "Skipping entity\n",
      "Skipping entity\n",
      "Skipping entity\n",
      "Skipping entity\n",
      "Skipping entity\n",
      "Skipping entity\n",
      "Skipping entity\n",
      "Skipping entity\n",
      "Skipping entity\n",
      "Skipping entity\n",
      "Skipping entity\n",
      "Skipping entity\n",
      "Skipping entity\n",
      "Skipping entity\n",
      "Skipping entity\n",
      "Skipping entity\n",
      "Skipping entity\n",
      "Skipping entity\n",
      "Skipping entity\n",
      "Skipping entity\n",
      "Skipping entity\n",
      "Skipping entity\n",
      "Skipping entity\n",
      "Skipping entity\n",
      "Skipping entity\n",
      "Skipping entity\n",
      "Skipping entity\n",
      "Skipping entity\n",
      "Skipping entity\n",
      "Skipping entity\n",
      "Skipping entity\n"
     ]
    },
    {
     "data": {
      "application/vnd.jupyter.widget-view+json": {
       "model_id": "a0139e2618924cf6b0f0541b825d8c72",
       "version_major": 2,
       "version_minor": 0
      },
      "text/plain": [
       "  0%|          | 0/1068 [00:00<?, ?it/s]"
      ]
     },
     "metadata": {},
     "output_type": "display_data"
    },
    {
     "name": "stdout",
     "output_type": "stream",
     "text": [
      "Skipping entity\n",
      "Skipping entity\n",
      "Skipping entity\n",
      "Skipping entity\n",
      "Skipping entity\n",
      "Skipping entity\n",
      "Skipping entity\n",
      "Skipping entity\n",
      "Skipping entity\n",
      "Skipping entity\n",
      "Skipping entity\n",
      "Skipping entity\n",
      "Skipping entity\n",
      "Skipping entity\n",
      "Skipping entity\n"
     ]
    },
    {
     "data": {
      "application/vnd.jupyter.widget-view+json": {
       "model_id": "fe9cfa77bcf04db0abd12bb4bfc21b33",
       "version_major": 2,
       "version_minor": 0
      },
      "text/plain": [
       "  0%|          | 0/1070 [00:00<?, ?it/s]"
      ]
     },
     "metadata": {},
     "output_type": "display_data"
    },
    {
     "name": "stdout",
     "output_type": "stream",
     "text": [
      "Skipping entity\n",
      "Skipping entity\n",
      "Skipping entity\n",
      "Skipping entity\n",
      "Skipping entity\n",
      "Skipping entity\n",
      "Skipping entity\n"
     ]
    }
   ],
   "source": [
    "def make_spacy(data: StockmarkData, name: str) -> None:\n",
    "    nlp = spacy.blank(\"ja\")\n",
    "    db = DocBin()\n",
    "    for training_example in tqdm(data):\n",
    "        text = training_example['text']\n",
    "        annotations = training_example['entities']\n",
    "        doc = nlp(text)\n",
    "        ents = []\n",
    "        for annotation in annotations:\n",
    "            start = annotation[\"span\"][0]\n",
    "            end = annotation[\"span\"][1]\n",
    "            label = annotation[\"type\"]\n",
    "\n",
    "            span = doc.char_span(start, end, label=label)\n",
    "\n",
    "            if span is None:\n",
    "                print(\"Skipping entity\")\n",
    "            else:\n",
    "                ents.append(span)\n",
    "        doc.ents = ents\n",
    "        db.add(doc)\n",
    "    db.to_disk(f\"../data/{name}.spacy\")\n",
    "\n",
    "make_spacy(data=train, name=\"train\")\n",
    "make_spacy(data=dev, name=\"dev\")\n",
    "make_spacy(data=test, name=\"test\")"
   ]
  },
  {
   "cell_type": "code",
   "execution_count": 7,
   "metadata": {},
   "outputs": [
    {
     "name": "stdout",
     "output_type": "stream",
     "text": [
      "Sansan株式会社\n",
      "<class 'spacy.tokens.span.Span'>\n"
     ]
    }
   ],
   "source": [
    "text = \"Sansan株式会社は、「出会いからイノベーションを生み出す」をミッションとして掲げています\"\n",
    "start = 0\n",
    "end = 10\n",
    "label = \"法人名\"\n",
    "\n",
    "nlp = spacy.blank(\"ja\")\n",
    "doc = nlp(text)\n",
    "span = doc.char_span(start, end, label=label)\n",
    "\n",
    "print(span)\n",
    "print(type(span))"
   ]
  },
  {
   "cell_type": "code",
   "execution_count": 8,
   "metadata": {},
   "outputs": [
    {
     "name": "stdout",
     "output_type": "stream",
     "text": [
      "期待出力: 草戸稲荷神社\n",
      "実際の出力: None\n",
      "データ型: <class 'NoneType'>\n"
     ]
    }
   ],
   "source": [
    "text = \"また、草戸稲荷神社前には遊女町を造ったといわれる。\"\n",
    "start = 3\n",
    "end = 9\n",
    "label = \"施設名\"\n",
    "\n",
    "nlp = spacy.blank(\"ja\")\n",
    "doc = nlp(text)\n",
    "span = doc.char_span(start, end, label=label)\n",
    "\n",
    "print(f\"期待出力: {text[start:end]}\")\n",
    "print(f\"実際の出力: {span}\")\n",
    "print(f\"データ型: {type(span)}\")"
   ]
  },
  {
   "cell_type": "code",
   "execution_count": 9,
   "metadata": {},
   "outputs": [
    {
     "name": "stdout",
     "output_type": "stream",
     "text": [
      "[また, 、, 草戸, 稲荷, 神社前, に, は, 遊女, 町, を, 造っ, た, と, いわ, れる, 。]\n"
     ]
    }
   ],
   "source": [
    "nlp = spacy.blank(\"ja\")\n",
    "doc = nlp(\"また、草戸稲荷神社前には遊女町を造ったといわれる。\")\n",
    "print([token for token in doc])"
   ]
  },
  {
   "cell_type": "markdown",
   "metadata": {},
   "source": [
    "# Configファイルの作成"
   ]
  },
  {
   "cell_type": "code",
   "execution_count": 10,
   "metadata": {},
   "outputs": [
    {
     "name": "stdout",
     "output_type": "stream",
     "text": [
      "\u001b[38;5;2m✔ Auto-filled config with all values\u001b[0m\n",
      "\u001b[38;5;2m✔ Saved config\u001b[0m\n",
      "../config/config.cfg\n",
      "You can now add your data and train your pipeline:\n",
      "python -m spacy train config.cfg --paths.train ./train.spacy --paths.dev ./dev.spacy\n"
     ]
    }
   ],
   "source": [
    "!python -m spacy init fill-config ../config/base_config.cfg ../config/config.cfg"
   ]
  },
  {
   "cell_type": "markdown",
   "metadata": {},
   "source": [
    "# 学習"
   ]
  },
  {
   "cell_type": "code",
   "execution_count": 11,
   "metadata": {},
   "outputs": [
    {
     "name": "stdout",
     "output_type": "stream",
     "text": [
      "\u001b[38;5;4mℹ Saving to output directory: .\u001b[0m\n",
      "\u001b[38;5;4mℹ Using CPU\u001b[0m\n",
      "\u001b[1m\n",
      "=========================== Initializing pipeline ===========================\u001b[0m\n",
      "[2023-07-20 23:08:45,447] [INFO] Set up nlp object from config\n",
      "[2023-07-20 23:08:45,454] [INFO] Pipeline: ['tok2vec', 'ner']\n",
      "[2023-07-20 23:08:45,455] [INFO] Created vocabulary\n",
      "[2023-07-20 23:08:46,067] [INFO] Added vectors: ja_core_news_lg\n",
      "[2023-07-20 23:08:46,067] [INFO] Finished initializing nlp object\n",
      "[2023-07-20 23:08:51,046] [INFO] Initialized pipeline components: ['tok2vec', 'ner']\n",
      "\u001b[38;5;2m✔ Initialized pipeline\u001b[0m\n",
      "\u001b[1m\n",
      "============================= Training pipeline =============================\u001b[0m\n",
      "\u001b[38;5;4mℹ Pipeline: ['tok2vec', 'ner']\u001b[0m\n",
      "\u001b[38;5;4mℹ Initial learn rate: 0.001\u001b[0m\n",
      "E    #       LOSS TOK2VEC  LOSS NER  ENTS_F  ENTS_P  ENTS_R  SCORE \n",
      "---  ------  ------------  --------  ------  ------  ------  ------\n",
      "  0       0          0.00     51.59    0.00    0.00    0.00    0.00\n",
      "  0     200        241.81   3057.86    3.64    6.87    2.48    0.04\n",
      "  0     400       1078.83   4190.00   26.86   30.05   24.28    0.27\n",
      "  0     600       1349.77   4286.86   39.50   40.39   38.65    0.40\n",
      "  0     800       1011.61   4476.62   41.54   45.30   38.35    0.42\n",
      "  1    1000        777.36   4225.80   48.91   50.56   47.35    0.49\n",
      "  1    1200        495.57   4679.23   51.48   53.36   49.72    0.51\n",
      "  2    1400        673.15   5070.43   51.82   51.44   52.20    0.52\n",
      "  3    1600        709.94   5342.73   60.23   58.76   61.76    0.60\n",
      "  4    1800       1003.89   5872.42   65.90   67.48   64.39    0.66\n",
      "  5    2000       1082.21   5468.31   64.72   64.94   64.50    0.65\n",
      "  7    2200       1442.92   5723.62   66.89   69.06   64.84    0.67\n",
      "  8    2400       1394.84   5288.18   67.29   70.11   64.69    0.67\n",
      " 10    2600       1279.43   4287.84   67.86   70.37   65.52    0.68\n",
      " 12    2800       1198.31   3641.89   68.14   68.67   67.62    0.68\n",
      " 14    3000       1144.16   2891.50   67.43   68.76   66.15    0.67\n",
      " 16    3200       1105.80   2452.79   69.87   71.60   68.22    0.70\n",
      " 17    3400       1026.97   2153.10   68.54   72.55   64.95    0.69\n",
      " 19    3600        865.50   1604.89   69.96   71.33   68.63    0.70\n",
      " 21    3800       1082.88   1617.34   69.45   71.02   67.95    0.69\n",
      " 23    4000        874.30   1329.86   69.70   71.66   67.84    0.70\n",
      " 25    4200       1089.45   1332.97   69.24   72.10   66.60    0.69\n",
      " 27    4400        736.01    963.30   70.68   73.19   68.33    0.71\n",
      " 28    4600        894.48   1005.92   70.06   72.69   67.62    0.70\n",
      " 30    4800        670.78    769.95   69.16   69.89   68.44    0.69\n",
      " 32    5000        678.29    727.29   70.85   70.79   70.92    0.71\n",
      " 34    5200        659.66    590.80   70.98   72.40   69.61    0.71\n",
      " 36    5400        708.78    641.77   69.84   71.88   67.92    0.70\n",
      " 37    5600        823.40    590.72   70.17   72.12   68.33    0.70\n",
      " 39    5800        659.13    492.57   70.63   70.60   70.66    0.71\n",
      " 41    6000        755.01    528.94   69.45   70.57   68.37    0.69\n",
      " 43    6200       1380.70    704.92   70.39   74.31   66.87    0.70\n",
      " 45    6400        864.96    453.74   69.56   70.83   68.33    0.70\n",
      " 47    6600        908.95    383.52   69.67   69.22   70.13    0.70\n",
      " 48    6800        947.74    391.76   69.36   71.87   67.02    0.69\n",
      "\u001b[38;5;2m✔ Saved pipeline to output directory\u001b[0m\n",
      "model-last\n"
     ]
    }
   ],
   "source": [
    "!python -m spacy train ../config/config.cfg --output ./ --paths.train ../data/train.spacy --paths.dev ../data/dev.spacy"
   ]
  },
  {
   "cell_type": "markdown",
   "metadata": {},
   "source": [
    "# 評価"
   ]
  },
  {
   "cell_type": "code",
   "execution_count": 12,
   "metadata": {},
   "outputs": [
    {
     "name": "stdout",
     "output_type": "stream",
     "text": [
      "\u001b[38;5;4mℹ Using CPU\u001b[0m\n",
      "\u001b[1m\n",
      "================================== Results ==================================\u001b[0m\n",
      "\n",
      "TOK     100.00\n",
      "NER P   70.85 \n",
      "NER R   68.16 \n",
      "NER F   69.48 \n",
      "SPEED   1604  \n",
      "\n",
      "\u001b[1m\n",
      "=============================== NER (per type) ===============================\u001b[0m\n",
      "\n",
      "              P       R       F\n",
      "人名        74.68   78.90   76.73\n",
      "法人名       71.00   66.60   68.73\n",
      "イベント名     77.99   62.31   69.27\n",
      "地名        70.90   85.49   77.51\n",
      "施設名       59.05   53.68   56.24\n",
      "製品名       56.70   51.84   54.16\n",
      "政治的組織名    80.33   73.28   76.65\n",
      "その他の組織名   69.09   41.53   51.88\n",
      "\n",
      "/Users/shinichiro.saito/Documents/folder/ner_spacy_training_japanese/.venv/lib/python3.11/site-packages/spacy/displacy/__init__.py:213: UserWarning: [W006] No entities to visualize found in Doc object. If this is surprising to you, make sure the Doc was processed using a model that supports named entity recognition, and check the `doc.ents` property manually if necessary.\n",
      "  warnings.warn(Warnings.W006)\n",
      "\u001b[38;5;2m✔ Generated 25 parses as HTML\u001b[0m\n",
      "../evaluate_result\n",
      "\u001b[38;5;2m✔ Saved results to ../evaluate_result/test_metrics.json\u001b[0m\n"
     ]
    }
   ],
   "source": [
    "!python -m spacy benchmark accuracy model-best ../data/test.spacy --output ../evaluate_result/test_metrics.json --displacy-path ../evaluate_result"
   ]
  },
  {
   "cell_type": "markdown",
   "metadata": {},
   "source": [
    "# 推論"
   ]
  },
  {
   "cell_type": "code",
   "execution_count": 13,
   "metadata": {},
   "outputs": [
    {
     "data": {
      "text/html": [
       "<span class=\"tex2jax_ignore\"><div class=\"entities\" style=\"line-height: 2.5; direction: ltr\"></br>働き方を変えるDXサービスを提供する\n",
       "<mark class=\"entity\" style=\"background: #F67DE3; padding: 0.45em 0.6em; margin: 0 0.25em; line-height: 1; border-radius: 0.35em;\">\n",
       "    Sansan株式会社\n",
       "    <span style=\"font-size: 0.8em; font-weight: bold; line-height: 1; border-radius: 0.35em; vertical-align: middle; margin-left: 0.5rem\">法人名</span>\n",
       "</mark>\n",
       "は、契約DXサービス「\n",
       "<mark class=\"entity\" style=\"background: #7DF6D9; padding: 0.45em 0.6em; margin: 0 0.25em; line-height: 1; border-radius: 0.35em;\">\n",
       "    Contract One\n",
       "    <span style=\"font-size: 0.8em; font-weight: bold; line-height: 1; border-radius: 0.35em; vertical-align: middle; margin-left: 0.5rem\">製品名</span>\n",
       "</mark>\n",
       "」がサービス価値向上を目的に、\n",
       "<mark class=\"entity\" style=\"background: #F67DE3; padding: 0.45em 0.6em; margin: 0 0.25em; line-height: 1; border-radius: 0.35em;\">\n",
       "    マイクロソフト社\n",
       "    <span style=\"font-size: 0.8em; font-weight: bold; line-height: 1; border-radius: 0.35em; vertical-align: middle; margin-left: 0.5rem\">法人名</span>\n",
       "</mark>\n",
       "が提供するAzure OpenAI Serviceを活用した「\n",
       "<mark class=\"entity\" style=\"background: #7DF6D9; padding: 0.45em 0.6em; margin: 0 0.25em; line-height: 1; border-radius: 0.35em;\">\n",
       "    Contract One AI\n",
       "    <span style=\"font-size: 0.8em; font-weight: bold; line-height: 1; border-radius: 0.35em; vertical-align: middle; margin-left: 0.5rem\">製品名</span>\n",
       "</mark>\n",
       "」を搭載したことを発表します。</br>今回は第一弾として文章内検索機能を追加します。契約書の内容について、定型質問から選択または質問内容を直接問いかけると、「\n",
       "<mark class=\"entity\" style=\"background: #7DF6D9; padding: 0.45em 0.6em; margin: 0 0.25em; line-height: 1; border-radius: 0.35em;\">\n",
       "    Contract One AI\n",
       "    <span style=\"font-size: 0.8em; font-weight: bold; line-height: 1; border-radius: 0.35em; vertical-align: middle; margin-left: 0.5rem\">製品名</span>\n",
       "</mark>\n",
       "」が適切な情報を抽出し質問に回答します。本機能の追加によって、法務担当者に限らず誰もが早く、簡単に契約情報を把握することが可能となります。「\n",
       "<mark class=\"entity\" style=\"background: #7DF6D9; padding: 0.45em 0.6em; margin: 0 0.25em; line-height: 1; border-radius: 0.35em;\">\n",
       "    Contract One AI\n",
       "    <span style=\"font-size: 0.8em; font-weight: bold; line-height: 1; border-radius: 0.35em; vertical-align: middle; margin-left: 0.5rem\">製品名</span>\n",
       "</mark>\n",
       "」は順次アップデートしていく予定です。</br></div></span>"
      ],
      "text/plain": [
       "<IPython.core.display.HTML object>"
      ]
     },
     "metadata": {},
     "output_type": "display_data"
    }
   ],
   "source": [
    "model = spacy.load(\"model-best\")\n",
    "\n",
    "# こちらより引用: https://jp.corp-sansan.com/news/2023/0526.html\n",
    "text = \"\"\"\n",
    "働き方を変えるDXサービスを提供するSansan株式会社は、契約DXサービス「Contract One」がサービス価値向上を目的に、マイクロソフト社が提供するAzure OpenAI Serviceを活用した「Contract One AI」を搭載したことを発表します。\n",
    "今回は第一弾として文章内検索機能を追加します。契約書の内容について、定型質問から選択または質問内容を直接問いかけると、「Contract One AI」が適切な情報を抽出し質問に回答します。本機能の追加によって、法務担当者に限らず誰もが早く、簡単に契約情報を把握することが可能となります。「Contract One AI」は順次アップデートしていく予定です。\n",
    "\"\"\"\n",
    "\n",
    "colors = {\"法人名\": \"#F67DE3\", \"製品名\": \"#7DF6D9\"}\n",
    "options = {\"colors\": colors} \n",
    "\n",
    "doc = model(text)\n",
    "\n",
    "spacy.displacy.render(doc, style=\"ent\", options=options, jupyter=True)"
   ]
  },
  {
   "cell_type": "code",
   "execution_count": null,
   "metadata": {},
   "outputs": [],
   "source": []
  }
 ],
 "metadata": {
  "kernelspec": {
   "display_name": ".venv",
   "language": "python",
   "name": "python3"
  },
  "language_info": {
   "codemirror_mode": {
    "name": "ipython",
    "version": 3
   },
   "file_extension": ".py",
   "mimetype": "text/x-python",
   "name": "python",
   "nbconvert_exporter": "python",
   "pygments_lexer": "ipython3",
   "version": "3.11.3"
  },
  "orig_nbformat": 4
 },
 "nbformat": 4,
 "nbformat_minor": 2
}
